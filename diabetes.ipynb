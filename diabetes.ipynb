{
 "cells": [
  {
   "cell_type": "code",
   "execution_count": 8,
   "id": "e82a8eef",
   "metadata": {},
   "outputs": [],
   "source": [
    "import pandas as pd\n",
    "from ydata_profiling import ProfileReport\n",
    "from sklearn.model_selection import train_test_split\n",
    "from sklearn.preprocessing import StandardScaler\n",
    "from sklearn.svm import SVC\n",
    "from sklearn.metrics import classification_report\n",
    "from sklearn.ensemble import RandomForestClassifier \n",
    "from sklearn.linear_model import LogisticRegression"
   ]
  },
  {
   "cell_type": "code",
   "execution_count": 9,
   "id": "0f8be5d8",
   "metadata": {},
   "outputs": [
    {
     "data": {
      "application/vnd.microsoft.datawrangler.viewer.v0+json": {
       "columns": [
        {
         "name": "index",
         "rawType": "int64",
         "type": "integer"
        },
        {
         "name": "Pregnancies",
         "rawType": "int64",
         "type": "integer"
        },
        {
         "name": "Glucose",
         "rawType": "int64",
         "type": "integer"
        },
        {
         "name": "BloodPressure",
         "rawType": "int64",
         "type": "integer"
        },
        {
         "name": "SkinThickness",
         "rawType": "int64",
         "type": "integer"
        },
        {
         "name": "Insulin",
         "rawType": "int64",
         "type": "integer"
        },
        {
         "name": "BMI",
         "rawType": "float64",
         "type": "float"
        },
        {
         "name": "DiabetesPedigreeFunction",
         "rawType": "float64",
         "type": "float"
        },
        {
         "name": "Age",
         "rawType": "int64",
         "type": "integer"
        },
        {
         "name": "Outcome",
         "rawType": "int64",
         "type": "integer"
        }
       ],
       "ref": "6b6ec1f2-4c70-4cf5-9767-96e3da8bb9c8",
       "rows": [
        [
         "0",
         "6",
         "148",
         "72",
         "35",
         "0",
         "33.6",
         "0.627",
         "50",
         "1"
        ],
        [
         "1",
         "1",
         "85",
         "66",
         "29",
         "0",
         "26.6",
         "0.351",
         "31",
         "0"
        ],
        [
         "2",
         "8",
         "183",
         "64",
         "0",
         "0",
         "23.3",
         "0.672",
         "32",
         "1"
        ],
        [
         "3",
         "1",
         "89",
         "66",
         "23",
         "94",
         "28.1",
         "0.167",
         "21",
         "0"
        ],
        [
         "4",
         "0",
         "137",
         "40",
         "35",
         "168",
         "43.1",
         "2.288",
         "33",
         "1"
        ],
        [
         "5",
         "5",
         "116",
         "74",
         "0",
         "0",
         "25.6",
         "0.201",
         "30",
         "0"
        ],
        [
         "6",
         "3",
         "78",
         "50",
         "32",
         "88",
         "31.0",
         "0.248",
         "26",
         "1"
        ],
        [
         "7",
         "10",
         "115",
         "0",
         "0",
         "0",
         "35.3",
         "0.134",
         "29",
         "0"
        ],
        [
         "8",
         "2",
         "197",
         "70",
         "45",
         "543",
         "30.5",
         "0.158",
         "53",
         "1"
        ],
        [
         "9",
         "8",
         "125",
         "96",
         "0",
         "0",
         "0.0",
         "0.232",
         "54",
         "1"
        ],
        [
         "10",
         "4",
         "110",
         "92",
         "0",
         "0",
         "37.6",
         "0.191",
         "30",
         "0"
        ],
        [
         "11",
         "10",
         "168",
         "74",
         "0",
         "0",
         "38.0",
         "0.537",
         "34",
         "1"
        ],
        [
         "12",
         "10",
         "139",
         "80",
         "0",
         "0",
         "27.1",
         "1.441",
         "57",
         "0"
        ],
        [
         "13",
         "1",
         "189",
         "60",
         "23",
         "846",
         "30.1",
         "0.398",
         "59",
         "1"
        ],
        [
         "14",
         "5",
         "166",
         "72",
         "19",
         "175",
         "25.8",
         "0.587",
         "51",
         "1"
        ],
        [
         "15",
         "7",
         "100",
         "0",
         "0",
         "0",
         "30.0",
         "0.484",
         "32",
         "1"
        ],
        [
         "16",
         "0",
         "118",
         "84",
         "47",
         "230",
         "45.8",
         "0.551",
         "31",
         "1"
        ],
        [
         "17",
         "7",
         "107",
         "74",
         "0",
         "0",
         "29.6",
         "0.254",
         "31",
         "1"
        ],
        [
         "18",
         "1",
         "103",
         "30",
         "38",
         "83",
         "43.3",
         "0.183",
         "33",
         "0"
        ],
        [
         "19",
         "1",
         "115",
         "70",
         "30",
         "96",
         "34.6",
         "0.529",
         "32",
         "1"
        ],
        [
         "20",
         "3",
         "126",
         "88",
         "41",
         "235",
         "39.3",
         "0.704",
         "27",
         "0"
        ],
        [
         "21",
         "8",
         "99",
         "84",
         "0",
         "0",
         "35.4",
         "0.388",
         "50",
         "0"
        ],
        [
         "22",
         "7",
         "196",
         "90",
         "0",
         "0",
         "39.8",
         "0.451",
         "41",
         "1"
        ],
        [
         "23",
         "9",
         "119",
         "80",
         "35",
         "0",
         "29.0",
         "0.263",
         "29",
         "1"
        ],
        [
         "24",
         "11",
         "143",
         "94",
         "33",
         "146",
         "36.6",
         "0.254",
         "51",
         "1"
        ],
        [
         "25",
         "10",
         "125",
         "70",
         "26",
         "115",
         "31.1",
         "0.205",
         "41",
         "1"
        ],
        [
         "26",
         "7",
         "147",
         "76",
         "0",
         "0",
         "39.4",
         "0.257",
         "43",
         "1"
        ],
        [
         "27",
         "1",
         "97",
         "66",
         "15",
         "140",
         "23.2",
         "0.487",
         "22",
         "0"
        ],
        [
         "28",
         "13",
         "145",
         "82",
         "19",
         "110",
         "22.2",
         "0.245",
         "57",
         "0"
        ],
        [
         "29",
         "5",
         "117",
         "92",
         "0",
         "0",
         "34.1",
         "0.337",
         "38",
         "0"
        ],
        [
         "30",
         "5",
         "109",
         "75",
         "26",
         "0",
         "36.0",
         "0.546",
         "60",
         "0"
        ],
        [
         "31",
         "3",
         "158",
         "76",
         "36",
         "245",
         "31.6",
         "0.851",
         "28",
         "1"
        ],
        [
         "32",
         "3",
         "88",
         "58",
         "11",
         "54",
         "24.8",
         "0.267",
         "22",
         "0"
        ],
        [
         "33",
         "6",
         "92",
         "92",
         "0",
         "0",
         "19.9",
         "0.188",
         "28",
         "0"
        ],
        [
         "34",
         "10",
         "122",
         "78",
         "31",
         "0",
         "27.6",
         "0.512",
         "45",
         "0"
        ],
        [
         "35",
         "4",
         "103",
         "60",
         "33",
         "192",
         "24.0",
         "0.966",
         "33",
         "0"
        ],
        [
         "36",
         "11",
         "138",
         "76",
         "0",
         "0",
         "33.2",
         "0.42",
         "35",
         "0"
        ],
        [
         "37",
         "9",
         "102",
         "76",
         "37",
         "0",
         "32.9",
         "0.665",
         "46",
         "1"
        ],
        [
         "38",
         "2",
         "90",
         "68",
         "42",
         "0",
         "38.2",
         "0.503",
         "27",
         "1"
        ],
        [
         "39",
         "4",
         "111",
         "72",
         "47",
         "207",
         "37.1",
         "1.39",
         "56",
         "1"
        ],
        [
         "40",
         "3",
         "180",
         "64",
         "25",
         "70",
         "34.0",
         "0.271",
         "26",
         "0"
        ],
        [
         "41",
         "7",
         "133",
         "84",
         "0",
         "0",
         "40.2",
         "0.696",
         "37",
         "0"
        ],
        [
         "42",
         "7",
         "106",
         "92",
         "18",
         "0",
         "22.7",
         "0.235",
         "48",
         "0"
        ],
        [
         "43",
         "9",
         "171",
         "110",
         "24",
         "240",
         "45.4",
         "0.721",
         "54",
         "1"
        ],
        [
         "44",
         "7",
         "159",
         "64",
         "0",
         "0",
         "27.4",
         "0.294",
         "40",
         "0"
        ],
        [
         "45",
         "0",
         "180",
         "66",
         "39",
         "0",
         "42.0",
         "1.893",
         "25",
         "1"
        ],
        [
         "46",
         "1",
         "146",
         "56",
         "0",
         "0",
         "29.7",
         "0.564",
         "29",
         "0"
        ],
        [
         "47",
         "2",
         "71",
         "70",
         "27",
         "0",
         "28.0",
         "0.586",
         "22",
         "0"
        ],
        [
         "48",
         "7",
         "103",
         "66",
         "32",
         "0",
         "39.1",
         "0.344",
         "31",
         "1"
        ],
        [
         "49",
         "7",
         "105",
         "0",
         "0",
         "0",
         "0.0",
         "0.305",
         "24",
         "0"
        ]
       ],
       "shape": {
        "columns": 9,
        "rows": 768
       }
      },
      "text/html": [
       "<div>\n",
       "<style scoped>\n",
       "    .dataframe tbody tr th:only-of-type {\n",
       "        vertical-align: middle;\n",
       "    }\n",
       "\n",
       "    .dataframe tbody tr th {\n",
       "        vertical-align: top;\n",
       "    }\n",
       "\n",
       "    .dataframe thead th {\n",
       "        text-align: right;\n",
       "    }\n",
       "</style>\n",
       "<table border=\"1\" class=\"dataframe\">\n",
       "  <thead>\n",
       "    <tr style=\"text-align: right;\">\n",
       "      <th></th>\n",
       "      <th>Pregnancies</th>\n",
       "      <th>Glucose</th>\n",
       "      <th>BloodPressure</th>\n",
       "      <th>SkinThickness</th>\n",
       "      <th>Insulin</th>\n",
       "      <th>BMI</th>\n",
       "      <th>DiabetesPedigreeFunction</th>\n",
       "      <th>Age</th>\n",
       "      <th>Outcome</th>\n",
       "    </tr>\n",
       "  </thead>\n",
       "  <tbody>\n",
       "    <tr>\n",
       "      <th>0</th>\n",
       "      <td>6</td>\n",
       "      <td>148</td>\n",
       "      <td>72</td>\n",
       "      <td>35</td>\n",
       "      <td>0</td>\n",
       "      <td>33.6</td>\n",
       "      <td>0.627</td>\n",
       "      <td>50</td>\n",
       "      <td>1</td>\n",
       "    </tr>\n",
       "    <tr>\n",
       "      <th>1</th>\n",
       "      <td>1</td>\n",
       "      <td>85</td>\n",
       "      <td>66</td>\n",
       "      <td>29</td>\n",
       "      <td>0</td>\n",
       "      <td>26.6</td>\n",
       "      <td>0.351</td>\n",
       "      <td>31</td>\n",
       "      <td>0</td>\n",
       "    </tr>\n",
       "    <tr>\n",
       "      <th>2</th>\n",
       "      <td>8</td>\n",
       "      <td>183</td>\n",
       "      <td>64</td>\n",
       "      <td>0</td>\n",
       "      <td>0</td>\n",
       "      <td>23.3</td>\n",
       "      <td>0.672</td>\n",
       "      <td>32</td>\n",
       "      <td>1</td>\n",
       "    </tr>\n",
       "    <tr>\n",
       "      <th>3</th>\n",
       "      <td>1</td>\n",
       "      <td>89</td>\n",
       "      <td>66</td>\n",
       "      <td>23</td>\n",
       "      <td>94</td>\n",
       "      <td>28.1</td>\n",
       "      <td>0.167</td>\n",
       "      <td>21</td>\n",
       "      <td>0</td>\n",
       "    </tr>\n",
       "    <tr>\n",
       "      <th>4</th>\n",
       "      <td>0</td>\n",
       "      <td>137</td>\n",
       "      <td>40</td>\n",
       "      <td>35</td>\n",
       "      <td>168</td>\n",
       "      <td>43.1</td>\n",
       "      <td>2.288</td>\n",
       "      <td>33</td>\n",
       "      <td>1</td>\n",
       "    </tr>\n",
       "    <tr>\n",
       "      <th>...</th>\n",
       "      <td>...</td>\n",
       "      <td>...</td>\n",
       "      <td>...</td>\n",
       "      <td>...</td>\n",
       "      <td>...</td>\n",
       "      <td>...</td>\n",
       "      <td>...</td>\n",
       "      <td>...</td>\n",
       "      <td>...</td>\n",
       "    </tr>\n",
       "    <tr>\n",
       "      <th>763</th>\n",
       "      <td>10</td>\n",
       "      <td>101</td>\n",
       "      <td>76</td>\n",
       "      <td>48</td>\n",
       "      <td>180</td>\n",
       "      <td>32.9</td>\n",
       "      <td>0.171</td>\n",
       "      <td>63</td>\n",
       "      <td>0</td>\n",
       "    </tr>\n",
       "    <tr>\n",
       "      <th>764</th>\n",
       "      <td>2</td>\n",
       "      <td>122</td>\n",
       "      <td>70</td>\n",
       "      <td>27</td>\n",
       "      <td>0</td>\n",
       "      <td>36.8</td>\n",
       "      <td>0.340</td>\n",
       "      <td>27</td>\n",
       "      <td>0</td>\n",
       "    </tr>\n",
       "    <tr>\n",
       "      <th>765</th>\n",
       "      <td>5</td>\n",
       "      <td>121</td>\n",
       "      <td>72</td>\n",
       "      <td>23</td>\n",
       "      <td>112</td>\n",
       "      <td>26.2</td>\n",
       "      <td>0.245</td>\n",
       "      <td>30</td>\n",
       "      <td>0</td>\n",
       "    </tr>\n",
       "    <tr>\n",
       "      <th>766</th>\n",
       "      <td>1</td>\n",
       "      <td>126</td>\n",
       "      <td>60</td>\n",
       "      <td>0</td>\n",
       "      <td>0</td>\n",
       "      <td>30.1</td>\n",
       "      <td>0.349</td>\n",
       "      <td>47</td>\n",
       "      <td>1</td>\n",
       "    </tr>\n",
       "    <tr>\n",
       "      <th>767</th>\n",
       "      <td>1</td>\n",
       "      <td>93</td>\n",
       "      <td>70</td>\n",
       "      <td>31</td>\n",
       "      <td>0</td>\n",
       "      <td>30.4</td>\n",
       "      <td>0.315</td>\n",
       "      <td>23</td>\n",
       "      <td>0</td>\n",
       "    </tr>\n",
       "  </tbody>\n",
       "</table>\n",
       "<p>768 rows × 9 columns</p>\n",
       "</div>"
      ],
      "text/plain": [
       "     Pregnancies  Glucose  BloodPressure  SkinThickness  Insulin   BMI  \\\n",
       "0              6      148             72             35        0  33.6   \n",
       "1              1       85             66             29        0  26.6   \n",
       "2              8      183             64              0        0  23.3   \n",
       "3              1       89             66             23       94  28.1   \n",
       "4              0      137             40             35      168  43.1   \n",
       "..           ...      ...            ...            ...      ...   ...   \n",
       "763           10      101             76             48      180  32.9   \n",
       "764            2      122             70             27        0  36.8   \n",
       "765            5      121             72             23      112  26.2   \n",
       "766            1      126             60              0        0  30.1   \n",
       "767            1       93             70             31        0  30.4   \n",
       "\n",
       "     DiabetesPedigreeFunction  Age  Outcome  \n",
       "0                       0.627   50        1  \n",
       "1                       0.351   31        0  \n",
       "2                       0.672   32        1  \n",
       "3                       0.167   21        0  \n",
       "4                       2.288   33        1  \n",
       "..                        ...  ...      ...  \n",
       "763                     0.171   63        0  \n",
       "764                     0.340   27        0  \n",
       "765                     0.245   30        0  \n",
       "766                     0.349   47        1  \n",
       "767                     0.315   23        0  \n",
       "\n",
       "[768 rows x 9 columns]"
      ]
     },
     "execution_count": 9,
     "metadata": {},
     "output_type": "execute_result"
    }
   ],
   "source": [
    "data = pd.read_csv(\"diabetes.csv\")\n",
    "data"
   ]
  },
  {
   "cell_type": "code",
   "execution_count": 16,
   "id": "52eaa473",
   "metadata": {},
   "outputs": [
    {
     "data": {
      "application/vnd.jupyter.widget-view+json": {
       "model_id": "cb01dc4d9e334e579892bef42cf48209",
       "version_major": 2,
       "version_minor": 0
      },
      "text/plain": [
       "Summarize dataset:   0%|          | 0/5 [00:00<?, ?it/s]"
      ]
     },
     "metadata": {},
     "output_type": "display_data"
    },
    {
     "name": "stderr",
     "output_type": "stream",
     "text": [
      "100%|██████████| 9/9 [00:00<00:00, 475.69it/s]\n"
     ]
    },
    {
     "data": {
      "application/vnd.jupyter.widget-view+json": {
       "model_id": "da6c6dc4b0c84b93b733aac9ba35492c",
       "version_major": 2,
       "version_minor": 0
      },
      "text/plain": [
       "Generate report structure:   0%|          | 0/1 [00:00<?, ?it/s]"
      ]
     },
     "metadata": {},
     "output_type": "display_data"
    },
    {
     "data": {
      "application/vnd.jupyter.widget-view+json": {
       "model_id": "a2663eebc96c417ebb49540ea22568cb",
       "version_major": 2,
       "version_minor": 0
      },
      "text/plain": [
       "Render HTML:   0%|          | 0/1 [00:00<?, ?it/s]"
      ]
     },
     "metadata": {},
     "output_type": "display_data"
    },
    {
     "data": {
      "application/vnd.jupyter.widget-view+json": {
       "model_id": "b09be91560f94a64bedc863c921050e3",
       "version_major": 2,
       "version_minor": 0
      },
      "text/plain": [
       "Export report to file:   0%|          | 0/1 [00:00<?, ?it/s]"
      ]
     },
     "metadata": {},
     "output_type": "display_data"
    }
   ],
   "source": [
    "profile = ProfileReport(data, title=\"Diabetes report\",explorative=True)\n",
    "profile.to_file(\"diabetes_statistics.html\")"
   ]
  },
  {
   "cell_type": "code",
   "execution_count": 11,
   "id": "ff327111",
   "metadata": {},
   "outputs": [],
   "source": [
    "target = \"Outcome\"\n",
    "x = data.drop(target, axis=1)\n",
    "y = data[target]"
   ]
  },
  {
   "cell_type": "code",
   "execution_count": 12,
   "id": "85657a6f",
   "metadata": {},
   "outputs": [],
   "source": [
    "x_train, x_test, y_train, y_test = train_test_split(x, y, test_size=0.2, random_state=42)\n",
    "scaler = StandardScaler()\n",
    "x_train = scaler.fit_transform(x_train)\n",
    "x_test = scaler.transform(x_test)"
   ]
  },
  {
   "cell_type": "code",
   "execution_count": 13,
   "id": "ce06c2d8",
   "metadata": {},
   "outputs": [],
   "source": [
    "model = LogisticRegression()\n",
    "model.fit(x_train, y_train)\n",
    "y_predict = model.predict(x_test)"
   ]
  },
  {
   "cell_type": "code",
   "execution_count": 14,
   "id": "f49fdbd4",
   "metadata": {},
   "outputs": [
    {
     "name": "stdout",
     "output_type": "stream",
     "text": [
      "              precision    recall  f1-score   support\n",
      "\n",
      "           0       0.81      0.80      0.81        99\n",
      "           1       0.65      0.67      0.66        55\n",
      "\n",
      "    accuracy                           0.75       154\n",
      "   macro avg       0.73      0.74      0.73       154\n",
      "weighted avg       0.76      0.75      0.75       154\n",
      "\n"
     ]
    }
   ],
   "source": [
    "print(classification_report(y_test, y_predict))"
   ]
  }
 ],
 "metadata": {
  "kernelspec": {
   "display_name": "Python 3",
   "language": "python",
   "name": "python3"
  },
  "language_info": {
   "codemirror_mode": {
    "name": "ipython",
    "version": 3
   },
   "file_extension": ".py",
   "mimetype": "text/x-python",
   "name": "python",
   "nbconvert_exporter": "python",
   "pygments_lexer": "ipython3",
   "version": "3.12.3"
  }
 },
 "nbformat": 4,
 "nbformat_minor": 5
}
